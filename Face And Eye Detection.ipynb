{
 "cells": [
  {
   "cell_type": "markdown",
   "id": "0e6250bd-984b-4660-bb36-775df27f9912",
   "metadata": {},
   "source": [
    "### Haar Cascade"
   ]
  },
  {
   "cell_type": "markdown",
   "id": "6f22d7de-1bde-4cbb-a7cc-76a7866fc311",
   "metadata": {},
   "source": [
    "**It is an object Detection Method**"
   ]
  },
  {
   "cell_type": "code",
   "execution_count": 1,
   "id": "40de165b-0523-43a3-aaf3-991d4cc70fd9",
   "metadata": {},
   "outputs": [],
   "source": [
    "import cv2"
   ]
  },
  {
   "cell_type": "code",
   "execution_count": 2,
   "id": "9f59b3bf-291c-4f24-a158-c09c55c7eec4",
   "metadata": {},
   "outputs": [],
   "source": [
    "face_cascade=cv2.CascadeClassifier(r'C:\\Users\\hp\\OneDrive\\Desktop\\Face Detection\\haarcascade_frontalface_default.xml')"
   ]
  },
  {
   "cell_type": "markdown",
   "id": "d4ebc871-7597-491a-8f57-7c27e978e9fb",
   "metadata": {},
   "source": [
    "**Image**"
   ]
  },
  {
   "cell_type": "code",
   "execution_count": 3,
   "id": "539736a7-1d8d-4219-bba8-51d1869f2f2e",
   "metadata": {},
   "outputs": [],
   "source": [
    "import cv2"
   ]
  },
  {
   "cell_type": "code",
   "execution_count": 4,
   "id": "45e8b333-1eb8-4117-848d-a9c8f3ff820e",
   "metadata": {},
   "outputs": [
    {
     "data": {
      "text/plain": [
       "array([[[ 1,  4,  8],\n",
       "        [ 1,  4,  8],\n",
       "        [ 1,  4,  8],\n",
       "        ...,\n",
       "        [ 1,  3,  4],\n",
       "        [ 1,  3,  4],\n",
       "        [ 1,  3,  4]],\n",
       "\n",
       "       [[ 1,  4,  8],\n",
       "        [ 1,  4,  8],\n",
       "        [ 1,  4,  8],\n",
       "        ...,\n",
       "        [ 1,  3,  4],\n",
       "        [ 1,  3,  4],\n",
       "        [ 1,  3,  4]],\n",
       "\n",
       "       [[ 1,  4,  8],\n",
       "        [ 1,  4,  8],\n",
       "        [ 1,  4,  8],\n",
       "        ...,\n",
       "        [ 1,  3,  4],\n",
       "        [ 1,  3,  4],\n",
       "        [ 1,  3,  4]],\n",
       "\n",
       "       ...,\n",
       "\n",
       "       [[ 0, 27, 58],\n",
       "        [ 1, 32, 63],\n",
       "        [ 4, 35, 66],\n",
       "        ...,\n",
       "        [ 0, 21, 29],\n",
       "        [ 0, 21, 29],\n",
       "        [ 0, 21, 29]],\n",
       "\n",
       "       [[ 2, 32, 61],\n",
       "        [ 7, 37, 66],\n",
       "        [ 8, 38, 67],\n",
       "        ...,\n",
       "        [ 1, 22, 30],\n",
       "        [ 1, 22, 30],\n",
       "        [ 1, 22, 30]],\n",
       "\n",
       "       [[ 2, 32, 61],\n",
       "        [ 7, 37, 66],\n",
       "        [ 9, 37, 67],\n",
       "        ...,\n",
       "        [ 1, 22, 30],\n",
       "        [ 1, 22, 30],\n",
       "        [ 1, 22, 30]]], dtype=uint8)"
      ]
     },
     "execution_count": 4,
     "metadata": {},
     "output_type": "execute_result"
    }
   ],
   "source": [
    "image=cv2.imread(r'C:\\Users\\hp\\OneDrive\\Desktop\\Benzamin\\Tiger.jpeg')\n",
    "image"
   ]
  },
  {
   "cell_type": "code",
   "execution_count": 5,
   "id": "9a0978e4-8a72-41e2-9511-31db4ad00b3b",
   "metadata": {},
   "outputs": [],
   "source": [
    "cv2.imshow(\"image\",image)  \n",
    "cv2.waitKey(0)          \n",
    "cv2.destroyAllWindows()"
   ]
  },
  {
   "cell_type": "markdown",
   "id": "12ea2a70-db8b-4a6f-b5b5-251506468381",
   "metadata": {},
   "source": [
    "**CV2 Rectangle**\n",
    "- image path\n",
    "- start_window=(5,5)\n",
    "- end_window=(200,200)\n",
    "- BGR:(255,0,0)\n",
    "- thickness=3"
   ]
  },
  {
   "cell_type": "code",
   "execution_count": 6,
   "id": "e3387f15-21cb-4650-b001-092a98061125",
   "metadata": {},
   "outputs": [],
   "source": [
    "image=cv2.imread(r'C:\\Users\\hp\\OneDrive\\Desktop\\Benzamin\\Tiger.jpeg')\n",
    "start_window=(5,5)\n",
    "end_window= (2000,2000)\n",
    "color=(0,0,255)\n",
    "thickness=5\n",
    "rec_image=cv2.rectangle(image,\n",
    "              start_window,\n",
    "              end_window,\n",
    "              color,\n",
    "              thickness)\n",
    "\n",
    "cv2.imshow(\"image\",rec_image)\n",
    "\n",
    "cv2.waitKey(0)         \n",
    "cv2.destroyAllWindows()"
   ]
  },
  {
   "cell_type": "code",
   "execution_count": 7,
   "id": "53c9445b-d05f-44d2-8032-f1b8ac931978",
   "metadata": {},
   "outputs": [
    {
     "name": "stdout",
     "output_type": "stream",
     "text": [
      "()\n"
     ]
    }
   ],
   "source": [
    "image=cv2.imread(r'C:\\Users\\hp\\OneDrive\\Desktop\\Benzamin\\Tiger.jpeg',cv2.COLOR_BGR2GRAY)\n",
    "face_cascade=cv2.CascadeClassifier(r'C:\\Users\\hp\\OneDrive\\Desktop\\Face Detection\\haarcascade_frontalface_default.xml')\n",
    "faces=face_cascade.detectMultiScale(image,1.1,5)\n",
    "print(faces)\n",
    "for (x,y,w,h) in faces:\n",
    "    print(x,y)\n",
    "    print(w,h)\n",
    "    cv2.rectangle(image,(x,y),(x+w,y+h),(0,0,255),3) "
   ]
  },
  {
   "cell_type": "code",
   "execution_count": 8,
   "id": "9b918204-f8b0-4545-8c9a-4c290e195e4a",
   "metadata": {},
   "outputs": [],
   "source": [
    "cv2.imshow('image',image)\n",
    "cv2.waitKey(0)\n",
    "cv2.destroyAllWindows()"
   ]
  },
  {
   "cell_type": "code",
   "execution_count": 9,
   "id": "f8c63d3d-9e90-40fa-915f-dd9e2c7b1ef6",
   "metadata": {},
   "outputs": [
    {
     "data": {
      "text/plain": [
       "array([[[ 1,  4,  8],\n",
       "        [ 1,  4,  8],\n",
       "        [ 1,  4,  8],\n",
       "        ...,\n",
       "        [ 1,  3,  4],\n",
       "        [ 1,  3,  4],\n",
       "        [ 1,  3,  4]],\n",
       "\n",
       "       [[ 1,  4,  8],\n",
       "        [ 1,  4,  8],\n",
       "        [ 1,  4,  8],\n",
       "        ...,\n",
       "        [ 1,  3,  4],\n",
       "        [ 1,  3,  4],\n",
       "        [ 1,  3,  4]],\n",
       "\n",
       "       [[ 1,  4,  8],\n",
       "        [ 1,  4,  8],\n",
       "        [ 1,  4,  8],\n",
       "        ...,\n",
       "        [ 1,  3,  4],\n",
       "        [ 1,  3,  4],\n",
       "        [ 1,  3,  4]],\n",
       "\n",
       "       ...,\n",
       "\n",
       "       [[ 0, 27, 58],\n",
       "        [ 1, 32, 63],\n",
       "        [ 4, 35, 66],\n",
       "        ...,\n",
       "        [ 0, 21, 29],\n",
       "        [ 0, 21, 29],\n",
       "        [ 0, 21, 29]],\n",
       "\n",
       "       [[ 2, 32, 61],\n",
       "        [ 7, 37, 66],\n",
       "        [ 8, 38, 67],\n",
       "        ...,\n",
       "        [ 1, 22, 30],\n",
       "        [ 1, 22, 30],\n",
       "        [ 1, 22, 30]],\n",
       "\n",
       "       [[ 2, 32, 61],\n",
       "        [ 7, 37, 66],\n",
       "        [ 9, 37, 67],\n",
       "        ...,\n",
       "        [ 1, 22, 30],\n",
       "        [ 1, 22, 30],\n",
       "        [ 1, 22, 30]]], dtype=uint8)"
      ]
     },
     "execution_count": 9,
     "metadata": {},
     "output_type": "execute_result"
    }
   ],
   "source": [
    "image"
   ]
  },
  {
   "cell_type": "markdown",
   "id": "7250d653-92fb-47a6-b0e3-ff2e879e3854",
   "metadata": {},
   "source": [
    "### Video:-"
   ]
  },
  {
   "cell_type": "code",
   "execution_count": 10,
   "id": "bcb34726-c1a9-4fa7-92d8-13bd8d0d0939",
   "metadata": {},
   "outputs": [],
   "source": [
    "cap=cv2.VideoCapture(0)\n",
    "while cap.isOpened():\n",
    "    has_frame,frame=cap.read()\n",
    "    imag=cv2.cvtColor(frame,cv2.COLOR_BGR2GRAY)\n",
    "    faces=face_cascade.detectMultiScale(imag,1.1,4)\n",
    "    for (x,y,w,h) in faces:\n",
    "        cv2.rectangle(imag,(x,y),(x+h,y+w),(255,0,0),3)\n",
    "    cv2.imshow('image',imag)\n",
    "    if cv2.waitKey(1) & 0xFF== ord('q'):\n",
    "        break\n",
    "cap.release()\n",
    "cv2.destroyAllWindows() \n"
   ]
  },
  {
   "cell_type": "code",
   "execution_count": 11,
   "id": "77a25e82-61c4-4f85-8636-1a49d698b709",
   "metadata": {},
   "outputs": [],
   "source": [
    "import cv2\n",
    "eye_cascade=cv2.CascadeClassifier(r'C:\\Users\\hp\\OneDrive\\Desktop\\Face Detection\\haarcascade_frontalface_default.xml')\n",
    "face_cascade=cv2.CascadeClassifier(r'C:\\Users\\hp\\OneDrive\\Desktop\\Face Detection\\haarcascade_eye.xml')"
   ]
  },
  {
   "cell_type": "code",
   "execution_count": 12,
   "id": "1f89bb85-b18c-4069-b572-2a48024df801",
   "metadata": {},
   "outputs": [],
   "source": [
    "image=cv2.imread(r'C:\\Users\\hp\\OneDrive\\Desktop\\Benzamin\\images.jpeg')"
   ]
  },
  {
   "cell_type": "code",
   "execution_count": 13,
   "id": "217b61be-260c-47c1-958c-0132087101bb",
   "metadata": {},
   "outputs": [],
   "source": [
    "cap=cv2.VideoCapture(0)\n",
    "while True:\n",
    "    has_frame,frame=cap.read()\n",
    "    gray=cv2.cvtColor(frame,cv2.COLOR_BGR2GRAY)\n",
    "    faces=face_cascade.detectMultiScale(gray,1.3,5)\n",
    "    for (x,y,w,h) in faces:\n",
    "        cv2.rectangle(frame,(x,y),(x+w,y+h),(255,0,0),2)\n",
    "        roi_gray=gray[y:y+h,x:x+w] #region of the image\n",
    "        roi_color=frame[y:y+h,x:x+w]\n",
    "        eyes=eye_cascade.detectMultiScale(roi_gray)\n",
    "        for (e_x,e_y,e_w,e_h) in eyes:\n",
    "            cv2.rectangle(roi_color,(e_x,e_y),(e_x+e_w,e_y+e_h),(0,255,0),2)\n",
    "    cv2.imshow('imag',frame)\n",
    "    if cv2.waitKey(1) & 0xFF==ord('q'):\n",
    "        break\n",
    "cap.release()\n",
    "cv2.destroyAllWindows()"
   ]
  },
  {
   "cell_type": "code",
   "execution_count": 14,
   "id": "a4f387b2-d947-4179-9e14-3d795b4045af",
   "metadata": {},
   "outputs": [],
   "source": [
    "\n",
    "full_body_cascade=cv2.CascadeClassifier(r'C:\\Users\\hp\\OneDrive\\Desktop\\Face Detection\\haarcascade_fullbody.xml')"
   ]
  },
  {
   "cell_type": "code",
   "execution_count": 15,
   "id": "7f31263d-3ed2-419c-82bb-22c82e022419",
   "metadata": {},
   "outputs": [],
   "source": [
    "image1=cv2.imread(r'C:\\Users\\hp\\OneDrive\\Desktop\\Benzamin\\istockphoto-1364054930-612x612.jpg')"
   ]
  },
  {
   "cell_type": "code",
   "execution_count": 16,
   "id": "59718f74-9cff-4aaf-95e6-758fbe9d3847",
   "metadata": {},
   "outputs": [],
   "source": [
    "# from PIL import Image\n",
    "# image1=Image.open(r\"C:\\Users\\hp\\OneDrive\\Desktop\\Benzamin\\istockphoto-1364054930-612x612.jpg\")\n",
    "# image1.show() "
   ]
  },
  {
   "cell_type": "code",
   "execution_count": 17,
   "id": "10f074cd-ab17-403c-9f8c-23481449a8cd",
   "metadata": {},
   "outputs": [
    {
     "data": {
      "text/plain": [
       "numpy.ndarray"
      ]
     },
     "execution_count": 17,
     "metadata": {},
     "output_type": "execute_result"
    }
   ],
   "source": [
    "type(image1)"
   ]
  },
  {
   "cell_type": "code",
   "execution_count": 18,
   "id": "d23b5a4b-490b-43e3-82c7-b6833ac600df",
   "metadata": {},
   "outputs": [],
   "source": [
    "import numpy as np\n",
    "import cv2"
   ]
  },
  {
   "cell_type": "code",
   "execution_count": 19,
   "id": "2c8cf29b-5039-4db6-9a51-ffea7a07a597",
   "metadata": {},
   "outputs": [],
   "source": [
    "def inside(r,q):\n",
    "    rx, ry, rw, rh = r\n",
    "    qx, qy, qw, qh = q\n",
    "    return rx> qx and ry> qy and rx + rw < qx + qw and ry + rh < qy + qh"
   ]
  },
  {
   "cell_type": "code",
   "execution_count": 20,
   "id": "5435a505-6cfa-409a-bbc8-1ba3065c8566",
   "metadata": {},
   "outputs": [],
   "source": [
    "def draw_detection(image1, rects, thickness=1):\n",
    "    for x,y,w,h in rects:\n",
    "        pad_w,pad_h = int(0.15*w),int(0.05*h)\n",
    "        cv2.rectangle(image1,(x+pad_w,y+pad_h),(x+w-pad_w, y+h-pad_h),(0,255,0),thickness)"
   ]
  },
  {
   "cell_type": "code",
   "execution_count": 21,
   "id": "82b72ff1-888c-40e0-b227-b0b6a0595857",
   "metadata": {},
   "outputs": [],
   "source": [
    "# if __name__=='__main__':\n",
    "#     hog=cv2.HOGDescriptor()\n",
    "#     cap=cv2.VideoCapture(r\"C:\\Users\\hp\\Downloads\\video (2160p).mp4\")\n",
    "#     while True:\n",
    "#         _,frame=cap.read()\n",
    "#         found,w=hog.detectMultiScale(frame,winstride=(8,8),padding=(32,32),scale=1.05)\n",
    "#         draw_detection(frame,found)\n",
    "#         cv2.imshow('feed',frame)\n",
    "#         ch=0xFF & cv2.waitKey(1)\n",
    "#         if ch==27:\n",
    "#             break\n",
    "# cv2.destroyAllWindows()"
   ]
  },
  {
   "cell_type": "code",
   "execution_count": 22,
   "id": "9c543594-e510-4074-88bc-bc15f16af97c",
   "metadata": {},
   "outputs": [],
   "source": [
    "import numpy as np\n",
    "import cv2\n",
    "\n",
    "\n",
    "def inside(r, q):\n",
    "    rx, ry, rw, rh = r\n",
    "    qx, qy, qw, qh = q\n",
    "    return rx > qx and ry > qy and rx + rw < qx + qw and ry + rh < qy + qh\n",
    "\n",
    "\n",
    "def draw_detections(img, rects, thickness = 1):\n",
    "    for x, y, w, h in rects:\n",
    "        # the HOG detector returns slightly larger rectangles than the real objects.\n",
    "        # so we slightly shrink the rectangles to get a nicer output.\n",
    "        pad_w, pad_h = int(0.15*w), int(0.05*h)\n",
    "        cv2.rectangle(img, (x+pad_w, y+pad_h), (x+w-pad_w, y+h-pad_h), (0, 255, 0), thickness)\n",
    "\n",
    "\n",
    "if __name__ == '__main__':\n",
    "    hog = cv2.HOGDescriptor()\n",
    "    hog.setSVMDetector(cv2.HOGDescriptor_getDefaultPeopleDetector())\n",
    "    cap = cv2.VideoCapture(r\"C:\\Users\\hp\\Downloads\\video (2160p).mp4\")\n",
    "\n",
    "    # Set the desired display width and height\n",
    "    display_width = 800\n",
    "    display_height = 600\n",
    "\n",
    "    while True:\n",
    "        _, frame = cap.read()\n",
    "\n",
    "        if frame is None:\n",
    "            break  # Break the loop if the video is over\n",
    "\n",
    "        # Resize the frame for display\n",
    "        frame = cv2.resize(frame, (display_width, display_height))\n",
    "\n",
    "        found, w = hog.detectMultiScale(frame, winStride=(8, 8), padding=(32, 32), scale=1.05)\n",
    "        draw_detections(frame, found)\n",
    "        cv2.imshow('feed', frame)\n",
    "\n",
    "        ch = 0xFF & cv2.waitKey(1)\n",
    "        if ch == 27:\n",
    "            break\n",
    "\n",
    "    cv2.destroyAllWindows()"
   ]
  },
  {
   "cell_type": "markdown",
   "id": "018d0955-2283-446c-b6f4-b62da44874b9",
   "metadata": {},
   "source": [
    "**Smile Cascade**"
   ]
  },
  {
   "cell_type": "code",
   "execution_count": 23,
   "id": "ab331693-179c-4edf-8e98-a56e6758c193",
   "metadata": {},
   "outputs": [
    {
     "data": {
      "text/plain": [
       "array([[[143, 210, 249],\n",
       "        [144, 211, 250],\n",
       "        [144, 211, 250],\n",
       "        ...,\n",
       "        [156, 220, 251],\n",
       "        [155, 219, 250],\n",
       "        [155, 219, 250]],\n",
       "\n",
       "       [[144, 211, 250],\n",
       "        [144, 211, 250],\n",
       "        [144, 211, 250],\n",
       "        ...,\n",
       "        [156, 220, 251],\n",
       "        [156, 220, 251],\n",
       "        [156, 220, 251]],\n",
       "\n",
       "       [[143, 210, 249],\n",
       "        [144, 211, 250],\n",
       "        [145, 212, 251],\n",
       "        ...,\n",
       "        [155, 219, 250],\n",
       "        [157, 221, 252],\n",
       "        [158, 222, 253]],\n",
       "\n",
       "       ...,\n",
       "\n",
       "       [[160, 164, 159],\n",
       "        [152, 156, 151],\n",
       "        [135, 139, 134],\n",
       "        ...,\n",
       "        [238, 228, 218],\n",
       "        [243, 233, 223],\n",
       "        [245, 235, 225]],\n",
       "\n",
       "       [[161, 165, 160],\n",
       "        [162, 166, 161],\n",
       "        [153, 157, 152],\n",
       "        ...,\n",
       "        [228, 218, 208],\n",
       "        [238, 227, 219],\n",
       "        [241, 230, 222]],\n",
       "\n",
       "       [[154, 158, 153],\n",
       "        [162, 166, 161],\n",
       "        [161, 165, 160],\n",
       "        ...,\n",
       "        [218, 208, 198],\n",
       "        [230, 219, 211],\n",
       "        [233, 222, 214]]], dtype=uint8)"
      ]
     },
     "execution_count": 23,
     "metadata": {},
     "output_type": "execute_result"
    }
   ],
   "source": [
    "img=cv2.imread(r'C:\\Users\\hp\\OneDrive\\Desktop\\Image .jpg')\n",
    "img"
   ]
  },
  {
   "cell_type": "code",
   "execution_count": 24,
   "id": "76b94b57-6aa1-457f-972b-4a983fd42311",
   "metadata": {},
   "outputs": [],
   "source": [
    "import cv2"
   ]
  },
  {
   "cell_type": "code",
   "execution_count": 25,
   "id": "348e7d41-4517-4cba-b7ca-b48a3aab3d7c",
   "metadata": {},
   "outputs": [],
   "source": [
    "smile_cascade=cv2.CascadeClassifier(r'C:\\Users\\hp\\Downloads\\haarcascade_smile.xml')\n",
    "face_cascade=cv2.CascadeClassifier(r'C:\\Users\\hp\\OneDrive\\Desktop\\Face Detection\\haarcascade_frontalface_default.xml')"
   ]
  },
  {
   "cell_type": "code",
   "execution_count": 26,
   "id": "ef7bb671-106f-483c-99aa-c96d110015b6",
   "metadata": {},
   "outputs": [],
   "source": [
    "def smile_detection():\n",
    "    img=cv2.imread(r'C:\\Users\\hp\\OneDrive\\Desktop\\Image .jpg')\n",
    "    img = cv2.resize(img, (400,500))\n",
    "    \n",
    "    gray=cv2.cvtColor(img,cv2.COLOR_BGR2GRAY)\n",
    "    faces=face_cascade.detectMultiScale(gray,1.3,5)\n",
    "    for (x,y,h,w) in faces:\n",
    "        roi_gray=gray[y:y+h,x:x+w]\n",
    "\n",
    "        smiles=smile_cascade.detectMultiScale(roi_gray,1.7,22)\n",
    "\n",
    "        if len(smiles)>0:\n",
    "            cv2.rectangle(img,(x,y),(x+w,y+h),(0,255,0),2)\n",
    "\n",
    "    cv2.imshow('Smile Detection',img)\n",
    "    cv2.waitKey(0)\n",
    "    cv2.destroyAllWindows()\n",
    "smile_detection()"
   ]
  },
  {
   "cell_type": "code",
   "execution_count": 27,
   "id": "4abd321b-b653-4473-b7b2-2d07f8f2d79b",
   "metadata": {},
   "outputs": [],
   "source": [
    "import cv2\n",
    "\n",
    "def smile_detection():\n",
    "    img = cv2.imread(r\"C:\\Users\\hp\\OneDrive\\Desktop\\Benzamin\\virat.jpeg\")\n",
    "\n",
    "    if img is None:\n",
    "        print(\"Error: Unable to load the image.\")\n",
    "        return\n",
    "\n",
    "    # Resize the image for better display\n",
    "    scale_factor = 3  # Adjust the scale factor as needed\n",
    "    img = cv2.resize(img, None, fx=scale_factor, fy=scale_factor)\n",
    "\n",
    "    gray = cv2.cvtColor(img, cv2.COLOR_BGR2GRAY)\n",
    "    faces = face_cascade.detectMultiScale(gray, scaleFactor=1.3, minNeighbors=5)\n",
    "\n",
    "    for (x, y, w, h) in faces:\n",
    "        roi_gray = gray[y:y + h, x:x + w]\n",
    "        smiles = smile_cascade.detectMultiScale(roi_gray, scaleFactor=1.7, minNeighbors=22)\n",
    "\n",
    "        if len(smiles) > 0:\n",
    "            cv2.rectangle(img, (x, y), (x + w, y + h), (0, 255, 0), 2)\n",
    "\n",
    "    cv2.imshow('Smile Detection', img)\n",
    "    cv2.waitKey(0)\n",
    "    cv2.destroyAllWindows()\n",
    "\n",
    "if __name__ == \"__main__\":\n",
    "    smile_detection()\n"
   ]
  },
  {
   "cell_type": "code",
   "execution_count": 28,
   "id": "8e6b6dc9-b9b5-4091-a6f7-6cf13c1a29b5",
   "metadata": {},
   "outputs": [],
   "source": [
    "import cv2\n",
    "\n",
    "def smile_detection():\n",
    "    img = cv2.imread(r'C:\\Users\\hp\\OneDrive\\Desktop\\Benzamin\\virat2.jpeg')\n",
    "\n",
    "    if img is None:\n",
    "        print(\"Error: Unable to load the image.\")\n",
    "        return\n",
    "\n",
    "    # Resize the image for better display\n",
    "    scale_factor = 3  # Adjust the scale factor as needed\n",
    "    img = cv2.resize(img, None, fx=scale_factor, fy=scale_factor)\n",
    "\n",
    "    gray = cv2.cvtColor(img, cv2.COLOR_BGR2GRAY)\n",
    "    faces = face_cascade.detectMultiScale(gray, scaleFactor=1.3, minNeighbors=5)\n",
    "\n",
    "    for (x, y, w, h) in faces:\n",
    "        roi_gray = gray[y:y + h, x:x + w]\n",
    "        smiles = smile_cascade.detectMultiScale(roi_gray, scaleFactor=1.7, minNeighbors=22)\n",
    "\n",
    "        if len(smiles) > 0:\n",
    "            cv2.rectangle(img, (x, y), (x + w, y + h), (0, 255, 0), 2)\n",
    "\n",
    "    cv2.imshow('Smile Detection', img)\n",
    "    cv2.waitKey(0)\n",
    "    cv2.destroyAllWindows()\n",
    "\n",
    "if __name__ == \"__main__\":\n",
    "    smile_detection()\n"
   ]
  },
  {
   "cell_type": "code",
   "execution_count": 29,
   "id": "6ecb4abe-e67e-4bea-8690-9257ea9ac7ca",
   "metadata": {},
   "outputs": [],
   "source": [
    "import cv2\n",
    "\n",
    "def smile_detection():\n",
    "    img = cv2.imread(r\"C:\\Users\\hp\\OneDrive\\Desktop\\Benzamin\\sad.jpg\")\n",
    "\n",
    "    if img is None:\n",
    "        print(\"Error: Unable to load the image.\")\n",
    "        return\n",
    "\n",
    "    # Resize the image for better display\n",
    "    scale_factor = 1  # Adjust the scale factor as needed\n",
    "    img = cv2.resize(img, None, fx=scale_factor, fy=scale_factor)\n",
    "\n",
    "    gray = cv2.cvtColor(img, cv2.COLOR_BGR2GRAY)\n",
    "    faces = face_cascade.detectMultiScale(gray, scaleFactor=1.3, minNeighbors=5)\n",
    "\n",
    "    for (x, y, w, h) in faces:\n",
    "        roi_gray = gray[y:y + h, x:x + w]\n",
    "        smiles = smile_cascade.detectMultiScale(roi_gray, scaleFactor=1.7, minNeighbors=22)\n",
    "\n",
    "        if len(smiles) > 0:\n",
    "            cv2.rectangle(img, (x, y), (x + w, y + h), (0, 255, 0), 2)\n",
    "\n",
    "    cv2.imshow('Smile Detection', img)\n",
    "    cv2.waitKey(0)\n",
    "    cv2.destroyAllWindows()\n",
    "\n",
    "if __name__ == \"__main__\":\n",
    "    smile_detection()\n"
   ]
  },
  {
   "cell_type": "code",
   "execution_count": null,
   "id": "9a4fb425-4bae-42a3-8c95-2bf8cd7e72ea",
   "metadata": {},
   "outputs": [],
   "source": []
  },
  {
   "cell_type": "code",
   "execution_count": null,
   "id": "66380b1b-fa38-4f2b-8ea7-62d82f16a684",
   "metadata": {},
   "outputs": [],
   "source": []
  },
  {
   "cell_type": "code",
   "execution_count": null,
   "id": "1d17d8cd-14a8-4d08-b15b-6bd12cfbee2a",
   "metadata": {},
   "outputs": [],
   "source": []
  }
 ],
 "metadata": {
  "kernelspec": {
   "display_name": "Python 3 (ipykernel)",
   "language": "python",
   "name": "python3"
  },
  "language_info": {
   "codemirror_mode": {
    "name": "ipython",
    "version": 3
   },
   "file_extension": ".py",
   "mimetype": "text/x-python",
   "name": "python",
   "nbconvert_exporter": "python",
   "pygments_lexer": "ipython3",
   "version": "3.11.7"
  }
 },
 "nbformat": 4,
 "nbformat_minor": 5
}
